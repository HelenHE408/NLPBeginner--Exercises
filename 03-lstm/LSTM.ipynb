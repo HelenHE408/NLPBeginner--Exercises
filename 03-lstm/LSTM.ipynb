{
 "cells": [
  {
   "cell_type": "code",
   "execution_count": 1,
   "metadata": {},
   "outputs": [],
   "source": [
    "import numpy as np\n",
    "import torch\n",
    "import torch.nn as nn\n",
    "import torch.optim as optim"
   ]
  },
  {
   "cell_type": "markdown",
   "metadata": {},
   "source": [
    "# example"
   ]
  },
  {
   "cell_type": "markdown",
   "metadata": {},
   "source": [
    "https://pytorch.org/docs/stable/generated/torch.nn.LSTM.html"
   ]
  },
  {
   "cell_type": "code",
   "execution_count": 2,
   "metadata": {},
   "outputs": [],
   "source": [
    "# model: 10-input_size, 20-hidden_size\n",
    "rnn = nn.LSTM(10, 20)\n",
    "# 输入，3条句子(batch)，长度为5，input_size/embedding为10\n",
    "input = torch.randn(5, 3, 10)\n",
    "# 1表示单向\n",
    "h0 = torch.randn(1, 3, 20)\n",
    "c0 = torch.randn(1, 3, 20)"
   ]
  },
  {
   "cell_type": "code",
   "execution_count": 3,
   "metadata": {},
   "outputs": [],
   "source": [
    "output, (hn, cn) = rnn(input, (h0, c0))"
   ]
  },
  {
   "cell_type": "code",
   "execution_count": 4,
   "metadata": {},
   "outputs": [
    {
     "data": {
      "text/plain": [
       "torch.Size([5, 3, 20])"
      ]
     },
     "execution_count": 4,
     "metadata": {},
     "output_type": "execute_result"
    }
   ],
   "source": [
    "output.shape"
   ]
  },
  {
   "cell_type": "markdown",
   "metadata": {},
   "source": [
    "# data import"
   ]
  },
  {
   "cell_type": "code",
   "execution_count": 5,
   "metadata": {},
   "outputs": [],
   "source": [
    "file = open(\"news.txt\", \"r\")\n",
    "raw_text = []\n",
    "for line in file:\n",
    "    raw_text.append(line.strip())\n",
    "file.close()\n",
    "# 为了减少运算量少取几行\n",
    "raw_text = [raw_text[i] for i in range(5)]"
   ]
  },
  {
   "cell_type": "code",
   "execution_count": 6,
   "metadata": {},
   "outputs": [
    {
     "data": {
      "text/plain": [
       "['These',\n",
       " 'particular',\n",
       " 'developments',\n",
       " 'can',\n",
       " 'be',\n",
       " 'seen',\n",
       " 'as',\n",
       " 'a',\n",
       " 'desire',\n",
       " 'of']"
      ]
     },
     "execution_count": 6,
     "metadata": {},
     "output_type": "execute_result"
    }
   ],
   "source": [
    "raw_tokens = ' '.join(raw_text).split(' ')\n",
    "raw_tokens[0:10]"
   ]
  },
  {
   "cell_type": "code",
   "execution_count": 7,
   "metadata": {},
   "outputs": [],
   "source": [
    "vocab = set(raw_tokens)\n",
    "word_idx = {word:i for i, word in enumerate(vocab)}\n",
    "idx_word = {i:word for i, word in enumerate(vocab)}\n",
    "vocab_size = len(word_idx)"
   ]
  },
  {
   "cell_type": "markdown",
   "metadata": {},
   "source": [
    "# model"
   ]
  },
  {
   "cell_type": "code",
   "execution_count": 8,
   "metadata": {},
   "outputs": [],
   "source": [
    "def batch(data, sequence_length = 10):\n",
    "    aBatch = []\n",
    "    for i in range(len(data)):\n",
    "        if i >= sequence_length-1:\n",
    "            end = i+1\n",
    "            context = [word_idx[word] for word in data[end-sequence_length:end]]\n",
    "            aBatch.append(np.eye(vocab_size)[context])\n",
    "    return aBatch"
   ]
  },
  {
   "cell_type": "code",
   "execution_count": 9,
   "metadata": {},
   "outputs": [],
   "source": [
    "class TextLSTM(nn.Module):\n",
    "    def __init__(self, vocab_size, hidden_size):\n",
    "        super(TextLSTM, self).__init__()\n",
    "\n",
    "        self.lstm = nn.LSTM(input_size = vocab_size, hidden_size = hidden_size, batch_first = True)\n",
    "        self.W = nn.Linear(hidden_size, vocab_size, bias=False)\n",
    "        self.b = nn.Parameter(torch.ones([vocab_size]))\n",
    "\n",
    "    def forward(self, X):\n",
    "        input = X  # batch_first = True, [batch_size,sequence_length, input_size]\n",
    "\n",
    "        hidden_state = torch.zeros(1, input.shape[0], hidden_size)  # [num_layers(=1) * num_directions(=1), batch_size, hidden_size]\n",
    "        cell_state = torch.zeros(1, input.shape[0], hidden_size)     # [num_layers(=1) * num_directions(=1), batch_size, hidden_size]\n",
    "\n",
    "        outputs, (_, _) = self.lstm(input, (hidden_state, cell_state))\n",
    "        outputs = outputs.transpose(0,1)\n",
    "        outputs = outputs[-1]  # [batch_size, hidden_size]\n",
    "        model = self.W(outputs) + self.b  # model : [batch_size, vocab_size]\n",
    "        return model"
   ]
  },
  {
   "cell_type": "markdown",
   "metadata": {},
   "source": [
    "## data prepared"
   ]
  },
  {
   "cell_type": "code",
   "execution_count": 10,
   "metadata": {},
   "outputs": [],
   "source": [
    "# len(raw_tokens)"
   ]
  },
  {
   "cell_type": "code",
   "execution_count": 11,
   "metadata": {},
   "outputs": [],
   "source": [
    "sequence_length = 11\n",
    "aBatch = batch(raw_tokens, sequence_length)"
   ]
  },
  {
   "cell_type": "code",
   "execution_count": 12,
   "metadata": {},
   "outputs": [
    {
     "name": "stderr",
     "output_type": "stream",
     "text": [
      "/var/folders/dx/_yt3_qhs7zn06_sx8f_kc6040000gn/T/ipykernel_12908/2883495826.py:1: UserWarning: Creating a tensor from a list of numpy.ndarrays is extremely slow. Please consider converting the list to a single numpy.ndarray with numpy.array() before converting to a tensor. (Triggered internally at /Users/runner/work/pytorch/pytorch/pytorch/torch/csrc/utils/tensor_new.cpp:278.)\n",
      "  input_batch = torch.FloatTensor(aBatch).transpose(0,1)\n"
     ]
    }
   ],
   "source": [
    "input_batch = torch.FloatTensor(aBatch).transpose(0,1)\n",
    "target = input_batch[-1]\n",
    "input = input_batch[:sequence_length-1].transpose(0,1)"
   ]
  },
  {
   "cell_type": "code",
   "execution_count": 13,
   "metadata": {},
   "outputs": [
    {
     "data": {
      "text/plain": [
       "torch.Size([533, 10, 272])"
      ]
     },
     "execution_count": 13,
     "metadata": {},
     "output_type": "execute_result"
    }
   ],
   "source": [
    "input.shape\n",
    "# batch_size * sequence_length * embedding_dim"
   ]
  },
  {
   "cell_type": "code",
   "execution_count": 14,
   "metadata": {},
   "outputs": [
    {
     "data": {
      "text/plain": [
       "torch.Size([533, 272])"
      ]
     },
     "execution_count": 14,
     "metadata": {},
     "output_type": "execute_result"
    }
   ],
   "source": [
    "target.shape\n",
    "# batch_size * embedding_dim"
   ]
  },
  {
   "cell_type": "markdown",
   "metadata": {},
   "source": [
    "## 模型训练"
   ]
  },
  {
   "cell_type": "code",
   "execution_count": 15,
   "metadata": {},
   "outputs": [],
   "source": [
    "hidden_size = 128"
   ]
  },
  {
   "cell_type": "code",
   "execution_count": 16,
   "metadata": {},
   "outputs": [],
   "source": [
    "model = TextLSTM(vocab_size, hidden_size)\n",
    "criterion = nn.CrossEntropyLoss()\n",
    "optimizer = optim.Adam(model.parameters(), lr=0.005)"
   ]
  },
  {
   "cell_type": "markdown",
   "metadata": {},
   "source": [
    "一个batch"
   ]
  },
  {
   "cell_type": "code",
   "execution_count": 17,
   "metadata": {},
   "outputs": [
    {
     "data": {
      "text/plain": [
       "torch.Size([1, 10, 272])"
      ]
     },
     "execution_count": 17,
     "metadata": {},
     "output_type": "execute_result"
    }
   ],
   "source": [
    "x1 = input[0]\n",
    "x1_new = x1.unsqueeze(0)\n",
    "x1_new.shape\n",
    "# [batch_size, sequence_length, word_embedding]"
   ]
  },
  {
   "cell_type": "code",
   "execution_count": 18,
   "metadata": {},
   "outputs": [
    {
     "data": {
      "text/plain": [
       "torch.Size([1, 272])"
      ]
     },
     "execution_count": 18,
     "metadata": {},
     "output_type": "execute_result"
    }
   ],
   "source": [
    "output = model(x1_new) \n",
    "output.shape\n",
    "# batch_first=False, [batch_size=1, senquence_length, 1*outpust_size]，此处outpust_size=input_size"
   ]
  },
  {
   "cell_type": "markdown",
   "metadata": {},
   "source": [
    "批量"
   ]
  },
  {
   "cell_type": "code",
   "execution_count": 19,
   "metadata": {},
   "outputs": [
    {
     "name": "stdout",
     "output_type": "stream",
     "text": [
      "Epoch: 0010 loss = 5.015473\n",
      "Epoch: 0020 loss = 4.775638\n",
      "Epoch: 0030 loss = 3.775566\n",
      "Epoch: 0040 loss = 2.112206\n",
      "Epoch: 0050 loss = 0.911878\n",
      "Epoch: 0060 loss = 0.341048\n",
      "Epoch: 0070 loss = 0.128705\n",
      "Epoch: 0080 loss = 0.057740\n",
      "Epoch: 0090 loss = 0.033706\n",
      "Epoch: 0100 loss = 0.023906\n"
     ]
    }
   ],
   "source": [
    "# Training\n",
    "for epoch in range(100):\n",
    "    optimizer.zero_grad()\n",
    "\n",
    "    output = model(input)\n",
    "    loss = criterion(output, target)\n",
    "    if (epoch + 1) % 10 == 0:\n",
    "        print('Epoch:', '%04d' % (epoch + 1), 'loss =', '{:.6f}'.format(loss))\n",
    "\n",
    "    loss.backward()\n",
    "    optimizer.step()"
   ]
  },
  {
   "cell_type": "code",
   "execution_count": 25,
   "metadata": {},
   "outputs": [
    {
     "data": {
      "text/plain": [
       "torch.Size([533, 272])"
      ]
     },
     "execution_count": 25,
     "metadata": {},
     "output_type": "execute_result"
    }
   ],
   "source": [
    "output.shape"
   ]
  },
  {
   "cell_type": "code",
   "execution_count": 27,
   "metadata": {},
   "outputs": [
    {
     "data": {
      "text/plain": [
       "torch.Size([533, 272])"
      ]
     },
     "execution_count": 27,
     "metadata": {},
     "output_type": "execute_result"
    }
   ],
   "source": [
    "target.shape"
   ]
  },
  {
   "cell_type": "markdown",
   "metadata": {},
   "source": [
    "## test"
   ]
  },
  {
   "cell_type": "code",
   "execution_count": 20,
   "metadata": {},
   "outputs": [],
   "source": [
    "i = np.random.randint(sequence_length, len(raw_tokens))\n",
    "token_test = [word_idx[token] for token in raw_tokens[i-sequence_length+1:i]]\n",
    "token_test_idx = []\n",
    "token_test_idx.append(np.eye(vocab_size)[token_test])"
   ]
  },
  {
   "cell_type": "code",
   "execution_count": 21,
   "metadata": {},
   "outputs": [
    {
     "data": {
      "text/plain": [
       "torch.Size([1, 10, 272])"
      ]
     },
     "execution_count": 21,
     "metadata": {},
     "output_type": "execute_result"
    }
   ],
   "source": [
    "idx_test = torch.FloatTensor(token_test_idx)\n",
    "idx_test.shape\n",
    "# batch_size * sentence_length * embedding/input_size"
   ]
  },
  {
   "cell_type": "code",
   "execution_count": 22,
   "metadata": {},
   "outputs": [],
   "source": [
    "predict = model(idx_test).data.max(1, keepdim=True)[1]"
   ]
  },
  {
   "cell_type": "code",
   "execution_count": 23,
   "metadata": {},
   "outputs": [
    {
     "data": {
      "text/plain": [
       "tensor([[212]])"
      ]
     },
     "execution_count": 23,
     "metadata": {},
     "output_type": "execute_result"
    }
   ],
   "source": [
    "predict"
   ]
  },
  {
   "cell_type": "code",
   "execution_count": 24,
   "metadata": {},
   "outputs": [
    {
     "name": "stdout",
     "output_type": "stream",
     "text": [
      "test: \n",
      " ['the', 'trial', 'of', 'the', 'Terra', 'cryptocurrency', 'company.', 'Kwon', 'was', 'hiding', 'from'] -> ['law'] \n",
      "\n",
      "true: ['the', 'trial', 'of', 'the', 'Terra', 'cryptocurrency', 'company.', 'Kwon', 'was', 'hiding', 'from', 'law']\n"
     ]
    }
   ],
   "source": [
    "print('test:','\\n', raw_tokens[i-sequence_length:i], '->', [idx_word[predict.squeeze().item()]],'\\n')\n",
    "print('true:',raw_tokens[i-sequence_length:i+1])"
   ]
  }
 ],
 "metadata": {
  "anaconda-cloud": {},
  "kernelspec": {
   "display_name": "Python 3 (ipykernel)",
   "language": "python",
   "name": "python3"
  },
  "language_info": {
   "codemirror_mode": {
    "name": "ipython",
    "version": 3
   },
   "file_extension": ".py",
   "mimetype": "text/x-python",
   "name": "python",
   "nbconvert_exporter": "python",
   "pygments_lexer": "ipython3",
   "version": "3.12.2"
  }
 },
 "nbformat": 4,
 "nbformat_minor": 4
}
