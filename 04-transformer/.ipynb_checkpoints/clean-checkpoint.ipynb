{
 "cells": [
  {
   "cell_type": "code",
   "execution_count": 36,
   "id": "dbf35cc3-70bb-4ebf-9d96-4702591b0217",
   "metadata": {},
   "outputs": [],
   "source": [
    "with open('fra.txt', 'r', encoding='utf-8') as file:\n",
    "    lines = file.readlines()\n",
    "\n",
    "ori_text = []\n",
    "\n",
    "for line in lines:\n",
    "    parts = line.split('\\t')\n",
    "    if len(parts) >= 2:\n",
    "        english = parts[0]\n",
    "        other_language = parts[1]\n",
    "        line = english + '\\t' + other_language + '\\n'\n",
    "        ori_text.append(line)"
   ]
  },
  {
   "cell_type": "code",
   "execution_count": 37,
   "id": "21d748bc-88b8-424e-983c-dcff643857ca",
   "metadata": {},
   "outputs": [
    {
     "data": {
      "text/plain": [
       "'Go.\\tVa !\\n'"
      ]
     },
     "execution_count": 37,
     "metadata": {},
     "output_type": "execute_result"
    }
   ],
   "source": [
    "ori_text[0]"
   ]
  },
  {
   "cell_type": "code",
   "execution_count": 38,
   "id": "5c0104c6-5440-4287-81f1-6a8f3c008a02",
   "metadata": {},
   "outputs": [],
   "source": [
    "with open('fra_clean.txt', 'w', encoding='utf-8') as file:\n",
    "    file.writelines(ori_text)"
   ]
  }
 ],
 "metadata": {
  "kernelspec": {
   "display_name": "Python 3 (ipykernel)",
   "language": "python",
   "name": "python3"
  },
  "language_info": {
   "codemirror_mode": {
    "name": "ipython",
    "version": 3
   },
   "file_extension": ".py",
   "mimetype": "text/x-python",
   "name": "python",
   "nbconvert_exporter": "python",
   "pygments_lexer": "ipython3",
   "version": "3.12.2"
  }
 },
 "nbformat": 4,
 "nbformat_minor": 5
}
