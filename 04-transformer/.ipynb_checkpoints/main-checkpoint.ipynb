{
 "cells": [
  {
   "cell_type": "code",
   "execution_count": 1,
   "id": "e3385fce-6c33-4ce6-be50-e4812bd705da",
   "metadata": {},
   "outputs": [],
   "source": [
    "import Data"
   ]
  },
  {
   "cell_type": "code",
   "execution_count": 2,
   "id": "e6699fe1-d9f0-46a8-980f-2c09be2ab91d",
   "metadata": {},
   "outputs": [],
   "source": [
    "import Component as C"
   ]
  },
  {
   "cell_type": "code",
   "execution_count": 3,
   "id": "e0b4ef3a-399c-42dd-b535-fdbb8878995c",
   "metadata": {},
   "outputs": [],
   "source": [
    "import torch\n",
    "import torch.nn as nn"
   ]
  },
  {
   "cell_type": "markdown",
   "id": "c276626f-2bbb-4e50-bb0e-a8ab4b25386c",
   "metadata": {},
   "source": [
    "# data"
   ]
  },
  {
   "cell_type": "code",
   "execution_count": 4,
   "id": "c987669e-31e7-4f9b-85ec-c5a7b7fecfb6",
   "metadata": {},
   "outputs": [],
   "source": [
    "corpus = Data.Data('fra_clean.txt',10000)"
   ]
  },
  {
   "cell_type": "code",
   "execution_count": 5,
   "id": "9f5b00fd-4c2b-4db8-b68a-8961d794b22e",
   "metadata": {},
   "outputs": [],
   "source": [
    "# encoder\n",
    "corpus_tensor_en, vocab_size_en, word2idx_en, idx2word_en = corpus.encoder()"
   ]
  },
  {
   "cell_type": "code",
   "execution_count": 6,
   "id": "1efbbfd5-fd7b-48af-9c08-3d92402fe06f",
   "metadata": {},
   "outputs": [
    {
     "data": {
      "text/plain": [
       "torch.Size([10000, 4, 2270])"
      ]
     },
     "execution_count": 6,
     "metadata": {},
     "output_type": "execute_result"
    }
   ],
   "source": [
    "corpus_tensor_en.shape"
   ]
  },
  {
   "cell_type": "code",
   "execution_count": 7,
   "id": "806efb87-af48-48ab-afa9-728873ea3d2f",
   "metadata": {},
   "outputs": [],
   "source": [
    "# decoder\n",
    "corpus_tensor_de, vocab_size_de, word2idx_de, idx2word_de = corpus.decoder()"
   ]
  },
  {
   "cell_type": "code",
   "execution_count": 8,
   "id": "b3ce7dc4-62e9-49bb-8961-424c5777c4d2",
   "metadata": {},
   "outputs": [
    {
     "data": {
      "text/plain": [
       "torch.Size([10000, 10, 4704])"
      ]
     },
     "execution_count": 8,
     "metadata": {},
     "output_type": "execute_result"
    }
   ],
   "source": [
    "corpus_tensor_de.shape"
   ]
  },
  {
   "cell_type": "code",
   "execution_count": 9,
   "id": "517343e9-000b-49b4-a5fb-85b4e2f5bfe0",
   "metadata": {
    "scrolled": true
   },
   "outputs": [],
   "source": [
    "# target\n",
    "target = corpus.target()"
   ]
  },
  {
   "cell_type": "code",
   "execution_count": 10,
   "id": "e81246cd-93f4-4ce7-809b-d0f1150e7859",
   "metadata": {},
   "outputs": [
    {
     "data": {
      "text/plain": [
       "torch.Size([10000, 10])"
      ]
     },
     "execution_count": 10,
     "metadata": {},
     "output_type": "execute_result"
    }
   ],
   "source": [
    "target.shape"
   ]
  },
  {
   "cell_type": "markdown",
   "id": "1e84ae90-f925-45e2-b74e-839fae2b68d9",
   "metadata": {},
   "source": [
    "# model"
   ]
  },
  {
   "cell_type": "markdown",
   "id": "377c82f3-fa7b-4ebe-b9dd-dec32398ddb7",
   "metadata": {},
   "source": [
    "## encoder"
   ]
  },
  {
   "cell_type": "markdown",
   "id": "7bac4a5d-fb1c-4d4a-baf2-c745e30f582f",
   "metadata": {},
   "source": [
    "batch_size, seq_length, input_size, hidden_size, num_heads, ff_size"
   ]
  },
  {
   "cell_type": "code",
   "execution_count": 11,
   "id": "383286c5-6f61-4d98-8215-967c51056d35",
   "metadata": {},
   "outputs": [
    {
     "data": {
      "text/plain": [
       "torch.Size([10000, 10, 4704])"
      ]
     },
     "execution_count": 11,
     "metadata": {},
     "output_type": "execute_result"
    }
   ],
   "source": [
    "corpus_tensor_de.shape"
   ]
  },
  {
   "cell_type": "code",
   "execution_count": 12,
   "id": "0b16f541-a062-4eb3-a96c-5be2d6cdda88",
   "metadata": {},
   "outputs": [],
   "source": [
    "batch_size, seq_length, input_size = corpus_tensor_de.shape\n",
    "\n",
    "num_heads = 2\n",
    "ff_size = 100\n",
    "embed_size = 100\n",
    "hidden_size = 128\n",
    "\n",
    "encoder = C.Encoder(batch_size, seq_length, input_size, embed_size, num_heads)\n",
    "\n",
    "output = encoder(corpus_tensor_de, mask =False)"
   ]
  },
  {
   "cell_type": "code",
   "execution_count": 13,
   "id": "576ea846-968f-4ae4-aa59-045e283fe4dc",
   "metadata": {},
   "outputs": [
    {
     "data": {
      "text/plain": [
       "torch.Size([10000, 10, 100])"
      ]
     },
     "execution_count": 13,
     "metadata": {},
     "output_type": "execute_result"
    }
   ],
   "source": [
    "output.shape"
   ]
  },
  {
   "cell_type": "code",
   "execution_count": 14,
   "id": "4df8c028-77ef-4349-853b-4dd5846e8b1a",
   "metadata": {},
   "outputs": [
    {
     "data": {
      "text/plain": [
       "tensor([-0.6638,  0.7475, -1.2316, -0.2081,  0.4016,  2.6609, -0.4417,  0.0291,\n",
       "         1.3483, -0.1894], grad_fn=<SliceBackward0>)"
      ]
     },
     "execution_count": 14,
     "metadata": {},
     "output_type": "execute_result"
    }
   ],
   "source": [
    "output[0][0][0:10]"
   ]
  },
  {
   "cell_type": "markdown",
   "id": "42188f4b-955b-4df2-8659-63b4f592a5d3",
   "metadata": {},
   "source": [
    "## decoder"
   ]
  },
  {
   "cell_type": "markdown",
   "id": "1bcd0ef1-8a1f-4490-b3e9-ef191d6aa428",
   "metadata": {},
   "source": [
    "batch_size, num_heads, seq_de, input_de, hidden_size, ff_de, input_en"
   ]
  },
  {
   "cell_type": "code",
   "execution_count": 11,
   "id": "9b49e1e0-2cf0-43da-88fd-60339ca93706",
   "metadata": {},
   "outputs": [],
   "source": [
    "batch_size, seq_de, input_de = corpus_tensor_de.shape"
   ]
  },
  {
   "cell_type": "code",
   "execution_count": 12,
   "id": "410f3355-5375-44f7-8589-342ba87d61fa",
   "metadata": {},
   "outputs": [
    {
     "data": {
      "text/plain": [
       "torch.Size([10000, 10, 4704])"
      ]
     },
     "execution_count": 12,
     "metadata": {},
     "output_type": "execute_result"
    }
   ],
   "source": [
    "corpus_tensor_de.shape"
   ]
  },
  {
   "cell_type": "code",
   "execution_count": 13,
   "id": "11c04bb4-1c13-417a-aeba-dba44fe1c520",
   "metadata": {},
   "outputs": [],
   "source": [
    "_, seq_en, input_en = corpus_tensor_en.shape"
   ]
  },
  {
   "cell_type": "code",
   "execution_count": 14,
   "id": "37265d00-90e3-4819-a100-5ce81dfc0005",
   "metadata": {},
   "outputs": [],
   "source": [
    "num_heads = 2\n",
    "embed_size = 100"
   ]
  },
  {
   "cell_type": "code",
   "execution_count": 16,
   "id": "5db2e314-c732-4fc5-83a4-56e3845c0b98",
   "metadata": {},
   "outputs": [],
   "source": [
    "decoder = C.Decoder(batch_size, seq_de, input_de, seq_en, input_en, embed_size, num_heads)"
   ]
  },
  {
   "cell_type": "code",
   "execution_count": 17,
   "id": "0a9c4306-5d76-4e5d-9e64-95b250f7b984",
   "metadata": {},
   "outputs": [
    {
     "data": {
      "text/plain": [
       "torch.Size([10000, 4, 2270])"
      ]
     },
     "execution_count": 17,
     "metadata": {},
     "output_type": "execute_result"
    }
   ],
   "source": [
    "corpus_tensor_en.shape"
   ]
  },
  {
   "cell_type": "code",
   "execution_count": 18,
   "id": "cadc73c8-b911-4d35-bcc8-0c1c0b13df33",
   "metadata": {},
   "outputs": [],
   "source": [
    "output = decoder(corpus_tensor_en, corpus_tensor_de)"
   ]
  },
  {
   "cell_type": "code",
   "execution_count": 19,
   "id": "f709a784-039f-4510-9403-dcaf541ade95",
   "metadata": {},
   "outputs": [
    {
     "data": {
      "text/plain": [
       "torch.Size([10000, 10, 4704])"
      ]
     },
     "execution_count": 19,
     "metadata": {},
     "output_type": "execute_result"
    }
   ],
   "source": [
    "output.shape"
   ]
  },
  {
   "cell_type": "code",
   "execution_count": 30,
   "id": "fc1b4e21-b23a-4ae2-8f92-68f0a147cf1a",
   "metadata": {},
   "outputs": [],
   "source": [
    "o = output[0]\n",
    "t = target[0]"
   ]
  },
  {
   "cell_type": "code",
   "execution_count": 32,
   "id": "ed3c1bfb-977e-4bfd-a600-2e164a753e19",
   "metadata": {},
   "outputs": [
    {
     "name": "stdout",
     "output_type": "stream",
     "text": [
      "torch.Size([10, 4704]) torch.Size([10])\n"
     ]
    }
   ],
   "source": [
    "print(o.shape, t.shape)"
   ]
  },
  {
   "cell_type": "code",
   "execution_count": 49,
   "id": "9893b0b0-6b78-4897-9267-46139e0cf8cd",
   "metadata": {},
   "outputs": [],
   "source": [
    "o = output.view(-1, output.shape[-1])\n",
    "t = target.flatten().long()"
   ]
  },
  {
   "cell_type": "code",
   "execution_count": 34,
   "id": "09468e13-989f-4a95-8436-1bbb37760b80",
   "metadata": {},
   "outputs": [
    {
     "data": {
      "text/plain": [
       "torch.Size([100000, 4704])"
      ]
     },
     "execution_count": 34,
     "metadata": {},
     "output_type": "execute_result"
    }
   ],
   "source": [
    "o.shape"
   ]
  },
  {
   "cell_type": "code",
   "execution_count": 47,
   "id": "937afd19-4450-401f-bd63-d3ac308abc75",
   "metadata": {},
   "outputs": [
    {
     "data": {
      "text/plain": [
       "torch.Size([100000])"
      ]
     },
     "execution_count": 47,
     "metadata": {},
     "output_type": "execute_result"
    }
   ],
   "source": [
    "t.shape"
   ]
  },
  {
   "cell_type": "code",
   "execution_count": 50,
   "id": "027c72c9-cdd9-4d6c-a9f5-65f294074be5",
   "metadata": {},
   "outputs": [],
   "source": [
    "loss = criterion(o, t)"
   ]
  },
  {
   "cell_type": "code",
   "execution_count": 51,
   "id": "ecff01fd-7d30-4252-8239-d433b2f7161f",
   "metadata": {},
   "outputs": [
    {
     "data": {
      "text/plain": [
       "tensor(8.4562, grad_fn=<NllLossBackward0>)"
      ]
     },
     "execution_count": 51,
     "metadata": {},
     "output_type": "execute_result"
    }
   ],
   "source": [
    "loss"
   ]
  },
  {
   "cell_type": "markdown",
   "id": "608306dd-76bb-423d-9277-2ba40ddd65cc",
   "metadata": {},
   "source": [
    "## optimization"
   ]
  },
  {
   "cell_type": "code",
   "execution_count": 20,
   "id": "6761333b-754e-4a0a-93e3-b78196bab959",
   "metadata": {},
   "outputs": [],
   "source": [
    "criterion = nn.CrossEntropyLoss()"
   ]
  },
  {
   "cell_type": "code",
   "execution_count": 21,
   "id": "729c3dad-8ce7-49ba-a27e-590f672bfae7",
   "metadata": {},
   "outputs": [],
   "source": [
    "optimizer = torch.optim.Adam(decoder.parameters(), lr=0.005)"
   ]
  },
  {
   "cell_type": "code",
   "execution_count": 26,
   "id": "73f550b0-0a3a-435d-a365-99c6ed2906e0",
   "metadata": {},
   "outputs": [
    {
     "ename": "RuntimeError",
     "evalue": "Expected target size [10000, 4704], got [10000, 10]",
     "output_type": "error",
     "traceback": [
      "\u001b[0;31m---------------------------------------------------------------------------\u001b[0m",
      "\u001b[0;31mRuntimeError\u001b[0m                              Traceback (most recent call last)",
      "Cell \u001b[0;32mIn[26], line 6\u001b[0m\n\u001b[1;32m      3\u001b[0m optimizer\u001b[38;5;241m.\u001b[39mzero_grad()\n\u001b[1;32m      4\u001b[0m output \u001b[38;5;241m=\u001b[39m decoder(corpus_tensor_en, corpus_tensor_de)\n\u001b[0;32m----> 6\u001b[0m loss \u001b[38;5;241m=\u001b[39m \u001b[43mcriterion\u001b[49m\u001b[43m(\u001b[49m\u001b[43moutput\u001b[49m\u001b[43m,\u001b[49m\u001b[43m \u001b[49m\u001b[43mtarget\u001b[49m\u001b[43m)\u001b[49m\n\u001b[1;32m      7\u001b[0m \u001b[38;5;66;03m# if (epoch + 1) % 10 == 0:\u001b[39;00m\n\u001b[1;32m      8\u001b[0m \u001b[38;5;66;03m#     print('Epoch:', '%04d' % (epoch + 1), 'cost =', '{:.6f}'.format(loss))\u001b[39;00m\n\u001b[1;32m      9\u001b[0m \u001b[38;5;28mprint\u001b[39m(\u001b[38;5;124m'\u001b[39m\u001b[38;5;124mEpoch:\u001b[39m\u001b[38;5;124m'\u001b[39m, \u001b[38;5;124m'\u001b[39m\u001b[38;5;132;01m%04d\u001b[39;00m\u001b[38;5;124m'\u001b[39m \u001b[38;5;241m%\u001b[39m (epoch \u001b[38;5;241m+\u001b[39m \u001b[38;5;241m1\u001b[39m), \u001b[38;5;124m'\u001b[39m\u001b[38;5;124mcost =\u001b[39m\u001b[38;5;124m'\u001b[39m, \u001b[38;5;124m'\u001b[39m\u001b[38;5;132;01m{:.6f}\u001b[39;00m\u001b[38;5;124m'\u001b[39m\u001b[38;5;241m.\u001b[39mformat(loss))\n",
      "File \u001b[0;32m/Library/Frameworks/Python.framework/Versions/3.12/lib/python3.12/site-packages/torch/nn/modules/module.py:1511\u001b[0m, in \u001b[0;36mModule._wrapped_call_impl\u001b[0;34m(self, *args, **kwargs)\u001b[0m\n\u001b[1;32m   1509\u001b[0m     \u001b[38;5;28;01mreturn\u001b[39;00m \u001b[38;5;28mself\u001b[39m\u001b[38;5;241m.\u001b[39m_compiled_call_impl(\u001b[38;5;241m*\u001b[39margs, \u001b[38;5;241m*\u001b[39m\u001b[38;5;241m*\u001b[39mkwargs)  \u001b[38;5;66;03m# type: ignore[misc]\u001b[39;00m\n\u001b[1;32m   1510\u001b[0m \u001b[38;5;28;01melse\u001b[39;00m:\n\u001b[0;32m-> 1511\u001b[0m     \u001b[38;5;28;01mreturn\u001b[39;00m \u001b[38;5;28;43mself\u001b[39;49m\u001b[38;5;241;43m.\u001b[39;49m\u001b[43m_call_impl\u001b[49m\u001b[43m(\u001b[49m\u001b[38;5;241;43m*\u001b[39;49m\u001b[43margs\u001b[49m\u001b[43m,\u001b[49m\u001b[43m \u001b[49m\u001b[38;5;241;43m*\u001b[39;49m\u001b[38;5;241;43m*\u001b[39;49m\u001b[43mkwargs\u001b[49m\u001b[43m)\u001b[49m\n",
      "File \u001b[0;32m/Library/Frameworks/Python.framework/Versions/3.12/lib/python3.12/site-packages/torch/nn/modules/module.py:1520\u001b[0m, in \u001b[0;36mModule._call_impl\u001b[0;34m(self, *args, **kwargs)\u001b[0m\n\u001b[1;32m   1515\u001b[0m \u001b[38;5;66;03m# If we don't have any hooks, we want to skip the rest of the logic in\u001b[39;00m\n\u001b[1;32m   1516\u001b[0m \u001b[38;5;66;03m# this function, and just call forward.\u001b[39;00m\n\u001b[1;32m   1517\u001b[0m \u001b[38;5;28;01mif\u001b[39;00m \u001b[38;5;129;01mnot\u001b[39;00m (\u001b[38;5;28mself\u001b[39m\u001b[38;5;241m.\u001b[39m_backward_hooks \u001b[38;5;129;01mor\u001b[39;00m \u001b[38;5;28mself\u001b[39m\u001b[38;5;241m.\u001b[39m_backward_pre_hooks \u001b[38;5;129;01mor\u001b[39;00m \u001b[38;5;28mself\u001b[39m\u001b[38;5;241m.\u001b[39m_forward_hooks \u001b[38;5;129;01mor\u001b[39;00m \u001b[38;5;28mself\u001b[39m\u001b[38;5;241m.\u001b[39m_forward_pre_hooks\n\u001b[1;32m   1518\u001b[0m         \u001b[38;5;129;01mor\u001b[39;00m _global_backward_pre_hooks \u001b[38;5;129;01mor\u001b[39;00m _global_backward_hooks\n\u001b[1;32m   1519\u001b[0m         \u001b[38;5;129;01mor\u001b[39;00m _global_forward_hooks \u001b[38;5;129;01mor\u001b[39;00m _global_forward_pre_hooks):\n\u001b[0;32m-> 1520\u001b[0m     \u001b[38;5;28;01mreturn\u001b[39;00m \u001b[43mforward_call\u001b[49m\u001b[43m(\u001b[49m\u001b[38;5;241;43m*\u001b[39;49m\u001b[43margs\u001b[49m\u001b[43m,\u001b[49m\u001b[43m \u001b[49m\u001b[38;5;241;43m*\u001b[39;49m\u001b[38;5;241;43m*\u001b[39;49m\u001b[43mkwargs\u001b[49m\u001b[43m)\u001b[49m\n\u001b[1;32m   1522\u001b[0m \u001b[38;5;28;01mtry\u001b[39;00m:\n\u001b[1;32m   1523\u001b[0m     result \u001b[38;5;241m=\u001b[39m \u001b[38;5;28;01mNone\u001b[39;00m\n",
      "File \u001b[0;32m/Library/Frameworks/Python.framework/Versions/3.12/lib/python3.12/site-packages/torch/nn/modules/loss.py:1179\u001b[0m, in \u001b[0;36mCrossEntropyLoss.forward\u001b[0;34m(self, input, target)\u001b[0m\n\u001b[1;32m   1178\u001b[0m \u001b[38;5;28;01mdef\u001b[39;00m \u001b[38;5;21mforward\u001b[39m(\u001b[38;5;28mself\u001b[39m, \u001b[38;5;28minput\u001b[39m: Tensor, target: Tensor) \u001b[38;5;241m-\u001b[39m\u001b[38;5;241m>\u001b[39m Tensor:\n\u001b[0;32m-> 1179\u001b[0m     \u001b[38;5;28;01mreturn\u001b[39;00m \u001b[43mF\u001b[49m\u001b[38;5;241;43m.\u001b[39;49m\u001b[43mcross_entropy\u001b[49m\u001b[43m(\u001b[49m\u001b[38;5;28;43minput\u001b[39;49m\u001b[43m,\u001b[49m\u001b[43m \u001b[49m\u001b[43mtarget\u001b[49m\u001b[43m,\u001b[49m\u001b[43m \u001b[49m\u001b[43mweight\u001b[49m\u001b[38;5;241;43m=\u001b[39;49m\u001b[38;5;28;43mself\u001b[39;49m\u001b[38;5;241;43m.\u001b[39;49m\u001b[43mweight\u001b[49m\u001b[43m,\u001b[49m\n\u001b[1;32m   1180\u001b[0m \u001b[43m                           \u001b[49m\u001b[43mignore_index\u001b[49m\u001b[38;5;241;43m=\u001b[39;49m\u001b[38;5;28;43mself\u001b[39;49m\u001b[38;5;241;43m.\u001b[39;49m\u001b[43mignore_index\u001b[49m\u001b[43m,\u001b[49m\u001b[43m \u001b[49m\u001b[43mreduction\u001b[49m\u001b[38;5;241;43m=\u001b[39;49m\u001b[38;5;28;43mself\u001b[39;49m\u001b[38;5;241;43m.\u001b[39;49m\u001b[43mreduction\u001b[49m\u001b[43m,\u001b[49m\n\u001b[1;32m   1181\u001b[0m \u001b[43m                           \u001b[49m\u001b[43mlabel_smoothing\u001b[49m\u001b[38;5;241;43m=\u001b[39;49m\u001b[38;5;28;43mself\u001b[39;49m\u001b[38;5;241;43m.\u001b[39;49m\u001b[43mlabel_smoothing\u001b[49m\u001b[43m)\u001b[49m\n",
      "File \u001b[0;32m/Library/Frameworks/Python.framework/Versions/3.12/lib/python3.12/site-packages/torch/nn/functional.py:3059\u001b[0m, in \u001b[0;36mcross_entropy\u001b[0;34m(input, target, weight, size_average, ignore_index, reduce, reduction, label_smoothing)\u001b[0m\n\u001b[1;32m   3057\u001b[0m \u001b[38;5;28;01mif\u001b[39;00m size_average \u001b[38;5;129;01mis\u001b[39;00m \u001b[38;5;129;01mnot\u001b[39;00m \u001b[38;5;28;01mNone\u001b[39;00m \u001b[38;5;129;01mor\u001b[39;00m reduce \u001b[38;5;129;01mis\u001b[39;00m \u001b[38;5;129;01mnot\u001b[39;00m \u001b[38;5;28;01mNone\u001b[39;00m:\n\u001b[1;32m   3058\u001b[0m     reduction \u001b[38;5;241m=\u001b[39m _Reduction\u001b[38;5;241m.\u001b[39mlegacy_get_string(size_average, reduce)\n\u001b[0;32m-> 3059\u001b[0m \u001b[38;5;28;01mreturn\u001b[39;00m \u001b[43mtorch\u001b[49m\u001b[38;5;241;43m.\u001b[39;49m\u001b[43m_C\u001b[49m\u001b[38;5;241;43m.\u001b[39;49m\u001b[43m_nn\u001b[49m\u001b[38;5;241;43m.\u001b[39;49m\u001b[43mcross_entropy_loss\u001b[49m\u001b[43m(\u001b[49m\u001b[38;5;28;43minput\u001b[39;49m\u001b[43m,\u001b[49m\u001b[43m \u001b[49m\u001b[43mtarget\u001b[49m\u001b[43m,\u001b[49m\u001b[43m \u001b[49m\u001b[43mweight\u001b[49m\u001b[43m,\u001b[49m\u001b[43m \u001b[49m\u001b[43m_Reduction\u001b[49m\u001b[38;5;241;43m.\u001b[39;49m\u001b[43mget_enum\u001b[49m\u001b[43m(\u001b[49m\u001b[43mreduction\u001b[49m\u001b[43m)\u001b[49m\u001b[43m,\u001b[49m\u001b[43m \u001b[49m\u001b[43mignore_index\u001b[49m\u001b[43m,\u001b[49m\u001b[43m \u001b[49m\u001b[43mlabel_smoothing\u001b[49m\u001b[43m)\u001b[49m\n",
      "\u001b[0;31mRuntimeError\u001b[0m: Expected target size [10000, 4704], got [10000, 10]"
     ]
    }
   ],
   "source": [
    "# Train\n",
    "for epoch in range(10):\n",
    "    optimizer.zero_grad()\n",
    "    output = decoder(corpus_tensor_en, corpus_tensor_de)\n",
    "    o = output.view(-1, output.shape[-1])\n",
    "    t = target.flatten().long()\n",
    "    loss = criterion(output, target)\n",
    "    # if (epoch + 1) % 10 == 0:\n",
    "    #     print('Epoch:', '%04d' % (epoch + 1), 'cost =', '{:.6f}'.format(loss))\n",
    "    print('Epoch:', '%04d' % (epoch + 1), 'cost =', '{:.6f}'.format(loss))\n",
    "        \n",
    "    loss.backward()\n",
    "    optimizer.step()"
   ]
  }
 ],
 "metadata": {
  "kernelspec": {
   "display_name": "Python 3 (ipykernel)",
   "language": "python",
   "name": "python3"
  },
  "language_info": {
   "codemirror_mode": {
    "name": "ipython",
    "version": 3
   },
   "file_extension": ".py",
   "mimetype": "text/x-python",
   "name": "python",
   "nbconvert_exporter": "python",
   "pygments_lexer": "ipython3",
   "version": "3.12.2"
  }
 },
 "nbformat": 4,
 "nbformat_minor": 5
}
