{
 "cells": [
  {
   "cell_type": "code",
   "execution_count": 1,
   "id": "451f2ac0-13e9-486e-b84a-1d14ecf9464d",
   "metadata": {},
   "outputs": [],
   "source": [
    "import numpy as np"
   ]
  },
  {
   "cell_type": "code",
   "execution_count": 2,
   "id": "07094fa1-9cba-4ef8-88b4-902d7f400a60",
   "metadata": {},
   "outputs": [],
   "source": [
    "A = np.array([\n",
    "    [1,2,3],\n",
    "    [4,5,6]])"
   ]
  },
  {
   "cell_type": "code",
   "execution_count": 3,
   "id": "ae849bf4-9fd5-4393-94b0-1f46f9de6c81",
   "metadata": {},
   "outputs": [],
   "source": [
    "A_T = np.transpose(A)"
   ]
  },
  {
   "cell_type": "code",
   "execution_count": 4,
   "id": "b3301205-a86f-4c81-a649-29cf67d9c1c1",
   "metadata": {},
   "outputs": [
    {
     "name": "stdout",
     "output_type": "stream",
     "text": [
      "[[14 32]\n",
      " [32 77]]\n",
      "[[17 22 27]\n",
      " [22 29 36]\n",
      " [27 36 45]]\n"
     ]
    }
   ],
   "source": [
    "S_l = np.dot(A,A_T)\n",
    "S_r = np.dot(A_T,A)\n",
    "print(S_l)\n",
    "print(S_r)"
   ]
  },
  {
   "cell_type": "code",
   "execution_count": 5,
   "id": "f776584f-a4f0-4fc7-a876-665b3d694277",
   "metadata": {},
   "outputs": [
    {
     "data": {
      "text/plain": [
       "array([ 0.59732747, 90.40267253])"
      ]
     },
     "execution_count": 5,
     "metadata": {},
     "output_type": "execute_result"
    }
   ],
   "source": [
    "c_l = np.linalg.eig(S_l)\n",
    "c_l[0]"
   ]
  },
  {
   "cell_type": "code",
   "execution_count": 6,
   "id": "ed9385b0-9861-4e7d-922b-9fff5edac70b",
   "metadata": {},
   "outputs": [
    {
     "data": {
      "text/plain": [
       "array([[-0.92236578, -0.3863177 ],\n",
       "       [ 0.3863177 , -0.92236578]])"
      ]
     },
     "execution_count": 6,
     "metadata": {},
     "output_type": "execute_result"
    }
   ],
   "source": [
    "c_l[1]"
   ]
  },
  {
   "cell_type": "code",
   "execution_count": 7,
   "id": "10737bfd-dd64-44f7-a7e0-cda837a13b6f",
   "metadata": {},
   "outputs": [
    {
     "data": {
      "text/plain": [
       "array([ 9.04026725e+01,  5.97327474e-01, -5.37561307e-15])"
      ]
     },
     "execution_count": 7,
     "metadata": {},
     "output_type": "execute_result"
    }
   ],
   "source": [
    "c_r = np.linalg.eig(S_r)\n",
    "c_r[0]"
   ]
  },
  {
   "cell_type": "code",
   "execution_count": 8,
   "id": "20442758-463b-4b26-adda-9edcfe867aa8",
   "metadata": {},
   "outputs": [
    {
     "data": {
      "text/plain": [
       "array([[-0.42866713, -0.80596391,  0.40824829],\n",
       "       [-0.56630692, -0.11238241, -0.81649658],\n",
       "       [-0.7039467 ,  0.58119908,  0.40824829]])"
      ]
     },
     "execution_count": 8,
     "metadata": {},
     "output_type": "execute_result"
    }
   ],
   "source": [
    "c_r[1]"
   ]
  },
  {
   "cell_type": "markdown",
   "id": "cc5c48f7-6556-4a01-9025-539e20317a57",
   "metadata": {},
   "source": [
    "# 奇异值分解"
   ]
  },
  {
   "cell_type": "code",
   "execution_count": 13,
   "id": "30b2be78-0d8b-40b0-b3d3-0be87ba1dd32",
   "metadata": {},
   "outputs": [],
   "source": [
    "def svd(A):\n",
    "    U, S, V = np.linalg.svd(A)\n",
    "    print(\"U:\")\n",
    "    print(U)\n",
    "    print(\"S:\")\n",
    "    print(S)\n",
    "    print(\"V:\")\n",
    "    print(V)\n",
    "    return U,S,V"
   ]
  },
  {
   "cell_type": "code",
   "execution_count": 14,
   "id": "637f7873-f451-4bf0-9677-d1f3f52bad3a",
   "metadata": {
    "scrolled": true
   },
   "outputs": [
    {
     "name": "stdout",
     "output_type": "stream",
     "text": [
      "U:\n",
      "[[-0.2298477   0.88346102  0.40824829]\n",
      " [-0.52474482  0.24078249 -0.81649658]\n",
      " [-0.81964194 -0.40189603  0.40824829]]\n",
      "S:\n",
      "[9.52551809 0.51430058]\n",
      "V:\n",
      "[[-0.61962948 -0.78489445]\n",
      " [-0.78489445  0.61962948]]\n"
     ]
    },
    {
     "data": {
      "text/plain": [
       "(array([[-0.2298477 ,  0.88346102,  0.40824829],\n",
       "        [-0.52474482,  0.24078249, -0.81649658],\n",
       "        [-0.81964194, -0.40189603,  0.40824829]]),\n",
       " array([9.52551809, 0.51430058]),\n",
       " array([[-0.61962948, -0.78489445],\n",
       "        [-0.78489445,  0.61962948]]))"
      ]
     },
     "execution_count": 14,
     "metadata": {},
     "output_type": "execute_result"
    }
   ],
   "source": [
    "A2 = np.array([[1, 2], [3, 4], [5, 6]])\n",
    "svd(A2)"
   ]
  },
  {
   "cell_type": "markdown",
   "id": "a720cb6d-7565-47fc-b0ce-20325e3d1a13",
   "metadata": {},
   "source": [
    "# 正交矩阵"
   ]
  },
  {
   "cell_type": "code",
   "execution_count": 17,
   "id": "d9153a15-e24f-420c-8fb1-883fe639b0b1",
   "metadata": {},
   "outputs": [],
   "source": [
    "def isOrth(M):\n",
    "    # 计算转置矩阵\n",
    "    M_transpose = np.transpose(M)\n",
    "    # M与其转置相乘\n",
    "    MM_t = np.dot(M,M_transpose)\n",
    "    \n",
    "    # 判断是否为正交矩阵\n",
    "    is_orthogonal = np.allclose(MM_t, np.eye(MM_t.shape[0]))\n",
    "    \n",
    "    if is_orthogonal:\n",
    "        print(\"矩阵是正交矩阵\")\n",
    "    else:\n",
    "        print(\"矩阵不是正交矩阵\")"
   ]
  },
  {
   "cell_type": "code",
   "execution_count": 15,
   "id": "b1aa4e83-ce4a-4fcb-924b-e67554805255",
   "metadata": {},
   "outputs": [
    {
     "name": "stdout",
     "output_type": "stream",
     "text": [
      "U:\n",
      "[[-0.2298477   0.88346102  0.40824829]\n",
      " [-0.52474482  0.24078249 -0.81649658]\n",
      " [-0.81964194 -0.40189603  0.40824829]]\n",
      "S:\n",
      "[9.52551809 0.51430058]\n",
      "V:\n",
      "[[-0.61962948 -0.78489445]\n",
      " [-0.78489445  0.61962948]]\n"
     ]
    },
    {
     "data": {
      "text/plain": [
       "array([[-0.2298477 ,  0.88346102,  0.40824829],\n",
       "       [-0.52474482,  0.24078249, -0.81649658],\n",
       "       [-0.81964194, -0.40189603,  0.40824829]])"
      ]
     },
     "execution_count": 15,
     "metadata": {},
     "output_type": "execute_result"
    }
   ],
   "source": [
    "U,S,V = svd(A2)\n",
    "U"
   ]
  },
  {
   "cell_type": "code",
   "execution_count": 18,
   "id": "59359de9-e2ca-404c-b0f2-120905713171",
   "metadata": {},
   "outputs": [
    {
     "name": "stdout",
     "output_type": "stream",
     "text": [
      "矩阵是正交矩阵\n"
     ]
    }
   ],
   "source": [
    "isOrth(U)"
   ]
  }
 ],
 "metadata": {
  "kernelspec": {
   "display_name": "Python 3 (ipykernel)",
   "language": "python",
   "name": "python3"
  },
  "language_info": {
   "codemirror_mode": {
    "name": "ipython",
    "version": 3
   },
   "file_extension": ".py",
   "mimetype": "text/x-python",
   "name": "python",
   "nbconvert_exporter": "python",
   "pygments_lexer": "ipython3",
   "version": "3.12.2"
  }
 },
 "nbformat": 4,
 "nbformat_minor": 5
}
