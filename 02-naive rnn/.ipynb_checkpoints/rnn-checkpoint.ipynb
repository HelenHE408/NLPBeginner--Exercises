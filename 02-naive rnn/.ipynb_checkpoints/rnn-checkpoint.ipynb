{
 "cells": [
  {
   "cell_type": "code",
   "execution_count": 1,
   "metadata": {},
   "outputs": [],
   "source": [
    "import numpy as np\n",
    "import torch\n",
    "import torch.nn as nn\n",
    "import torch.optim as optim"
   ]
  },
  {
   "cell_type": "code",
   "execution_count": 2,
   "metadata": {},
   "outputs": [],
   "source": [
    "import nltk\n",
    "from nltk.tokenize import word_tokenize\n",
    "from bs4 import BeautifulSoup\n",
    "import re\n",
    "# nltk.download('wordnet')"
   ]
  },
  {
   "cell_type": "code",
   "execution_count": 3,
   "metadata": {},
   "outputs": [],
   "source": [
    "import pandas as pd"
   ]
  },
  {
   "cell_type": "code",
   "execution_count": 4,
   "metadata": {},
   "outputs": [],
   "source": [
    "def make_input(x):\n",
    "    input_batch = []\n",
    "    for line in x:\n",
    "      word = line.split(' ')\n",
    "      input = [word_dict[n] for n in word if n != '']\n",
    "      input_batch.append(np.eye(n_class)[input])\n",
    "    return input_batch"
   ]
  },
  {
   "cell_type": "code",
   "execution_count": 5,
   "metadata": {},
   "outputs": [],
   "source": [
    "def make_target(y):\n",
    "    target = []\n",
    "    n_class = len(y.unique())\n",
    "    for t in y:\n",
    "        target.append(np.eye(n_class)[t])\n",
    "    return target"
   ]
  },
  {
   "cell_type": "code",
   "execution_count": 6,
   "metadata": {},
   "outputs": [],
   "source": [
    "def remove_stopwords(text):\n",
    "    stop_words = set(nltk.corpus.stopwords.words('english'))\n",
    "    tokens = word_tokenize(text)\n",
    "    filtered_tokens = [word for word in tokens if word.lower() not in stop_words]\n",
    "    filtered_text = ' '.join(filtered_tokens)\n",
    "    return filtered_text\n",
    "    \n",
    "def Clean(corpus):\n",
    "    cleaned = []\n",
    "    for line in corpus:\n",
    "        clean_line = BeautifulSoup(line).get_text() # 去除HTML标签\n",
    "        clean_line = re.sub(\"[^a-zA-Z]\",\" \", clean_line) # 去除除字母外（数字、符号\n",
    "        # clean_line = remove_stopwords(clean_line)\n",
    "        words = word_tokenize(clean_line.lower()) # 分词\n",
    "        # lemma_words = [lemmatizer.lemmatize(w) for w in words] # 统一时态\n",
    "        \n",
    "        cleaned.append(words)\n",
    "    return cleaned"
   ]
  },
  {
   "cell_type": "code",
   "execution_count": 7,
   "metadata": {},
   "outputs": [],
   "source": [
    "class TextRNN(nn.Module):\n",
    "    def __init__(self, n_class, n_hidden, output_size):\n",
    "        super(TextRNN, self).__init__()\n",
    "        self.rnn = nn.RNN(input_size=n_class, hidden_size=n_hidden)\n",
    "        self.W = nn.Linear(n_hidden, output_size, bias=False)\n",
    "        self.b = nn.Parameter(torch.ones([output_size]))\n",
    "        self.softmax_function = nn.Softmax(dim = -1)\n",
    "\n",
    "    def forward(self, hidden, X):\n",
    "        X = X.transpose(0, 1) # X : [n_step, batch_size, n_class]\n",
    "        outputs, hidden = self.rnn(X, hidden)\n",
    "        # outputs : [n_step, batch_size, num_directions(=1) * n_hidden]\n",
    "        # hidden : [num_layers(=1) * num_directions(=1), batch_size, n_hidden]\n",
    "        \n",
    "        outputs = outputs[-1] # nstep * n_class  \n",
    "        out = self.W(outputs) + self.b # model : [batch_size, n_class]\n",
    "        out = self.softmax_function(out)\n",
    "        return out"
   ]
  },
  {
   "cell_type": "markdown",
   "metadata": {},
   "source": [
    "# data"
   ]
  },
  {
   "cell_type": "code",
   "execution_count": 8,
   "metadata": {},
   "outputs": [],
   "source": [
    "df = pd.read_csv('/Users/helen/Documents/nlp/代码练习/sentiment-analysis-on-movie-reviews/train.tsv',sep='\\t')\n",
    "df_dedup = df.drop_duplicates(subset='SentenceId',keep='first').reset_index(drop = True).head(200)\n",
    "df_train = df.drop(['PhraseId', 'SentenceId'], axis = 1).reset_index(drop = True)"
   ]
  },
  {
   "cell_type": "code",
   "execution_count": 9,
   "metadata": {},
   "outputs": [
    {
     "name": "stderr",
     "output_type": "stream",
     "text": [
      "/var/folders/dx/_yt3_qhs7zn06_sx8f_kc6040000gn/T/ipykernel_80643/1313219091.py:11: MarkupResemblesLocatorWarning: The input looks more like a filename than markup. You may want to open this file and pass the filehandle into Beautiful Soup.\n",
      "  clean_line = BeautifulSoup(line).get_text() # 去除HTML标签\n"
     ]
    }
   ],
   "source": [
    "corpus = []\n",
    "corpus.extend(line for line in df_train['Phrase'])\n",
    "cleaned_corpus = Clean(corpus)\n",
    "cleaned_lines = [' '.join(words) for words in cleaned_corpus]\n",
    "df_train['Phrase_clean'] = cleaned_lines"
   ]
  },
  {
   "cell_type": "code",
   "execution_count": 10,
   "metadata": {},
   "outputs": [],
   "source": [
    "vocab = [word for words in cleaned_corpus for word in words]\n",
    "vocab = set(vocab)"
   ]
  },
  {
   "cell_type": "code",
   "execution_count": 11,
   "metadata": {},
   "outputs": [],
   "source": [
    "word_dict = {word:ix for ix, word in enumerate(vocab)}\n",
    "\n",
    "# 由于RNN的预测对象并不是word，所以此处不用number to word dict\n",
    "# number_dict = {ix:word for ix, word in enumerate(vocab)}\n",
    "\n",
    "n_class = len(word_dict)"
   ]
  },
  {
   "cell_type": "code",
   "execution_count": 12,
   "metadata": {},
   "outputs": [],
   "source": [
    "x = df_train['Phrase_clean']\n",
    "y = df_train['Sentiment']"
   ]
  },
  {
   "cell_type": "markdown",
   "metadata": {},
   "source": [
    "# run"
   ]
  },
  {
   "cell_type": "markdown",
   "metadata": {},
   "source": [
    "imputs, target"
   ]
  },
  {
   "cell_type": "code",
   "execution_count": 1,
   "metadata": {},
   "outputs": [],
   "source": [
    "inputs = make_input(x)\n",
    "targets = make_target(y)\n",
    "# target\n",
    "targets = torch.FloatTensor(targets)"
   ]
  },
  {
   "cell_type": "code",
   "execution_count": null,
   "metadata": {},
   "outputs": [],
   "source": [
    "# inputs\n",
    "l = max(len(line) for line in inputs)\n",
    "\n",
    "for i in range(len(inputs)):\n",
    "    if len(inputs[i])!=0:\n",
    "        zeros = np.zeros((l,n_class))\n",
    "        zeros[-inputs[i].shape[0]:, :] = inputs[i]\n",
    "        inputs[i] = zeros\n",
    "    if len(inputs[i])==0:\n",
    "        inputs[i] = zeros\n",
    "\n",
    "inputs = torch.FloatTensor(inputs)"
   ]
  },
  {
   "cell_type": "code",
   "execution_count": null,
   "metadata": {},
   "outputs": [],
   "source": [
    "n_step =  inputs.shape[1] # number of cells(= number of Step)\n",
    "n_hidden = 128 # number of hidden units in one cell\n",
    "output_size = targets.shape[1]"
   ]
  },
  {
   "cell_type": "code",
   "execution_count": null,
   "metadata": {},
   "outputs": [],
   "source": [
    "model = TextRNN(n_class, n_hidden, output_size)\n",
    "criterion = nn.CrossEntropyLoss()\n",
    "optimizer = optim.Adam(model.parameters(), lr=0.001)"
   ]
  },
  {
   "cell_type": "markdown",
   "metadata": {},
   "source": [
    "先尝试一行数据"
   ]
  },
  {
   "cell_type": "code",
   "execution_count": null,
   "metadata": {},
   "outputs": [],
   "source": [
    "x1 = inputs[1].transpose(0,1)\n",
    "y1 = targets[1]\n",
    "print(x1.shape, y1.shape)"
   ]
  },
  {
   "cell_type": "code",
   "execution_count": null,
   "metadata": {},
   "outputs": [],
   "source": [
    "hidden = torch.zeros(1, n_hidden)"
   ]
  },
  {
   "cell_type": "code",
   "execution_count": null,
   "metadata": {},
   "outputs": [],
   "source": [
    "o = model(hidden, x1)\n",
    "o"
   ]
  },
  {
   "cell_type": "code",
   "execution_count": null,
   "metadata": {},
   "outputs": [],
   "source": [
    "y1"
   ]
  },
  {
   "cell_type": "markdown",
   "metadata": {},
   "source": [
    "尝试一个batch=2"
   ]
  },
  {
   "cell_type": "code",
   "execution_count": null,
   "metadata": {},
   "outputs": [],
   "source": [
    "x1 = inputs[0:2]\n",
    "y1 = targets[0:2]\n",
    "print(x1.shape, y1.shape)"
   ]
  },
  {
   "cell_type": "code",
   "execution_count": null,
   "metadata": {},
   "outputs": [],
   "source": [
    "hidden = torch.zeros(1, 2, n_hidden)\n",
    "o = model(hidden, x1)"
   ]
  },
  {
   "cell_type": "code",
   "execution_count": null,
   "metadata": {},
   "outputs": [],
   "source": [
    "o"
   ]
  },
  {
   "cell_type": "markdown",
   "metadata": {},
   "source": [
    "批量处理"
   ]
  },
  {
   "cell_type": "code",
   "execution_count": null,
   "metadata": {},
   "outputs": [],
   "source": [
    "from sklearn.model_selection import train_test_split"
   ]
  },
  {
   "cell_type": "code",
   "execution_count": null,
   "metadata": {},
   "outputs": [],
   "source": [
    "# train_validation\n",
    "input, vali_input, target, vali_target = train_test_split(inputs, targets, test_size=0.2, random_state=42)"
   ]
  },
  {
   "cell_type": "code",
   "execution_count": null,
   "metadata": {},
   "outputs": [],
   "source": [
    "# batch_size = 420\n",
    "# # 使用索引切片按批次分割张量\n",
    "# batch_x = [inputs[i:i+batch_size] for i in range(0, len(inputs), batch_size)]\n",
    "# batch_y = [target[i:i+batch_size] for i in range(0, len(target), batch_size)]\n",
    "\n",
    "# xb = batch_x[0]\n",
    "# yb = batch_y[0]\n",
    "\n",
    "# xb.shape\n",
    "\n",
    "# hidden = torch.zeros(1, batch_size, n_hidden)\n",
    "\n",
    "# output = model(hidden, inputs)"
   ]
  },
  {
   "cell_type": "code",
   "execution_count": null,
   "metadata": {},
   "outputs": [],
   "source": [
    "batch_size=len(input)\n",
    "\n",
    "# Training\n",
    "for epoch in range(100):\n",
    "    # hidden : [num_layers * num_directions, batch, hidden_size]\n",
    "    hidden = torch.zeros(1, batch_size, n_hidden)\n",
    "        \n",
    "    # input_batch : [batch_size, n_step, n_class]\n",
    "    output = model(hidden, input)\n",
    "\n",
    "    # output : [batch_size, n_class], target_batch : [batch_size] (LongTensor, not one-hot)\n",
    "    loss = criterion(output, target)\n",
    "        \n",
    "    # 反向传播和优化\n",
    "    optimizer.zero_grad()\n",
    "    loss.backward()\n",
    "    optimizer.step()"
   ]
  },
  {
   "cell_type": "code",
   "execution_count": null,
   "metadata": {},
   "outputs": [],
   "source": [
    "# 设置模型为评估模式\n",
    "model.eval()\n",
    "\n",
    "# batch\n",
    "batch_size=len(vali_input)\n",
    "hidden = torch.zeros(1, batch_size, n_hidden)\n",
    "# validation"
   ]
  },
  {
   "cell_type": "code",
   "execution_count": null,
   "metadata": {},
   "outputs": [],
   "source": [
    "vali_input.shape"
   ]
  },
  {
   "cell_type": "code",
   "execution_count": null,
   "metadata": {},
   "outputs": [],
   "source": [
    "# 禁用梯度计算\n",
    "with torch.no_grad():\n",
    "    correct = 0\n",
    "    total = vali_target.size(0)\n",
    "    # 使用模型进行预测\n",
    "    outputs = model(hidden,vali_input)\n",
    "        \n",
    "    # 获取预测结果中最大值所对应的索引\n",
    "    predicted_labels = torch.argmax(outputs, dim=1)\n",
    "        \n",
    "    # 统计预测正确的样本数\n",
    "    for i in range(len(predicted_labels)):\n",
    "        correct += (predicted_labels[i] == vali_target[i]).sum().item()\n",
    "    \n",
    "    # 计算预测准确率\n",
    "    accuracy = correct / total\n",
    "\n",
    "print(\"Accuracy:\", accuracy)"
   ]
  },
  {
   "cell_type": "code",
   "execution_count": null,
   "metadata": {},
   "outputs": [],
   "source": [
    "p"
   ]
  },
  {
   "cell_type": "markdown",
   "metadata": {},
   "source": [
    "## predict"
   ]
  },
  {
   "cell_type": "markdown",
   "metadata": {},
   "source": [
    "data"
   ]
  },
  {
   "cell_type": "code",
   "execution_count": null,
   "metadata": {},
   "outputs": [],
   "source": [
    "test = pd.read_csv('/Users/helen/Documents/nlp/代码练习/sentiment-analysis-on-movie-reviews/test.tsv',sep='\\t')\n",
    "test_dedup = test.drop_duplicates(subset='SentenceId',keep='first').reset_index(drop = True).head(10)\n",
    "test_dedup.info()"
   ]
  },
  {
   "cell_type": "code",
   "execution_count": null,
   "metadata": {},
   "outputs": [],
   "source": [
    "corpus_test = []\n",
    "corpus_test.extend(line for line in test_dedup['Phrase'])\n",
    "cleaned_corpus_test = Clean(corpus_test)\n",
    "cleaned_lines_test = [' '.join(words) for words in cleaned_corpus_test]\n",
    "test_dedup['Phrase_clean'] = cleaned_lines_test"
   ]
  },
  {
   "cell_type": "code",
   "execution_count": null,
   "metadata": {},
   "outputs": [],
   "source": [
    "x_test = test_dedup['Phrase_clean']\n",
    "\n",
    "inputs_test = []\n",
    "for line in x_test:\n",
    "    word = line.split(' ')\n",
    "    input = []\n",
    "    for n in word:\n",
    "        if n in word_dict.keys():\n",
    "            input.append(word_dict[n])\n",
    "    inputs_test.append(np.eye(n_class)[input])\n",
    "    "
   ]
  },
  {
   "cell_type": "code",
   "execution_count": null,
   "metadata": {},
   "outputs": [],
   "source": [
    "l = max(len(line) for line in inputs_test)\n",
    "\n",
    "for i in range(len(inputs_test)):\n",
    "    if len(inputs_test[i])!=0:\n",
    "        zeros = np.zeros((l,n_class))\n",
    "        zeros[-inputs_test[i].shape[0]:, :] = inputs_test[i]\n",
    "        inputs_test[i] = zeros\n",
    "    if len(inputs_test[i])==0:\n",
    "        inputs_test[i] = zeros"
   ]
  },
  {
   "cell_type": "code",
   "execution_count": null,
   "metadata": {},
   "outputs": [],
   "source": [
    "inputs_test = torch.FloatTensor(inputs_test)"
   ]
  },
  {
   "cell_type": "markdown",
   "metadata": {},
   "source": [
    "predict"
   ]
  },
  {
   "cell_type": "code",
   "execution_count": null,
   "metadata": {},
   "outputs": [],
   "source": [
    "batch_size"
   ]
  },
  {
   "cell_type": "code",
   "execution_count": null,
   "metadata": {},
   "outputs": [],
   "source": [
    "batch_size = len(inputs_test)\n",
    "hidden = torch.zeros(1, batch_size, n_hidden)"
   ]
  },
  {
   "cell_type": "markdown",
   "metadata": {},
   "source": [
    "0 - negative\n",
    "\n",
    "1 - somewhat negative\n",
    "\n",
    "2 - neutral\n",
    "\n",
    "3 - somewhat positive\n",
    "\n",
    "4 - positive"
   ]
  },
  {
   "cell_type": "code",
   "execution_count": null,
   "metadata": {},
   "outputs": [],
   "source": [
    "predict = model(hidden, inputs_test).data"
   ]
  },
  {
   "cell_type": "code",
   "execution_count": null,
   "metadata": {},
   "outputs": [],
   "source": [
    "# Predict\n",
    "pred_label = [np.argmax(pred).item() for pred in predict.data]\n",
    "pred_label"
   ]
  },
  {
   "cell_type": "code",
   "execution_count": null,
   "metadata": {},
   "outputs": [],
   "source": [
    "for i in range(len(pred_label)):\n",
    "    print(x_test[i],'\\n')\n",
    "    print(pred_label[i],'\\n')"
   ]
  }
 ],
 "metadata": {
  "anaconda-cloud": {},
  "kernelspec": {
   "display_name": "Python 3 (ipykernel)",
   "language": "python",
   "name": "python3"
  },
  "language_info": {
   "codemirror_mode": {
    "name": "ipython",
    "version": 3
   },
   "file_extension": ".py",
   "mimetype": "text/x-python",
   "name": "python",
   "nbconvert_exporter": "python",
   "pygments_lexer": "ipython3",
   "version": "3.11.7"
  }
 },
 "nbformat": 4,
 "nbformat_minor": 4
}
