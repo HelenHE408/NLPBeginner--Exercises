{
 "cells": [
  {
   "cell_type": "code",
   "execution_count": 2,
   "id": "8766a634-41d9-46a3-a74b-39afc2b7b20a",
   "metadata": {},
   "outputs": [],
   "source": [
    "import pandas as pd\n",
    "pd.set_option('display.max_colwidth',None)"
   ]
  },
  {
   "cell_type": "code",
   "execution_count": 3,
   "id": "af70c054-98ab-4499-8608-9b44532d096a",
   "metadata": {},
   "outputs": [],
   "source": [
    "import torch"
   ]
  },
  {
   "cell_type": "code",
   "execution_count": 4,
   "id": "5deacf15-3566-4b1a-b8ae-1bb2910b171d",
   "metadata": {},
   "outputs": [],
   "source": [
    "from torch import nn"
   ]
  },
  {
   "cell_type": "code",
   "execution_count": 5,
   "id": "84d65b36-7938-48ca-be1f-a79e6a717cbb",
   "metadata": {},
   "outputs": [],
   "source": [
    "import nltk\n",
    "from nltk.tokenize import word_tokenize\n",
    "from bs4 import BeautifulSoup\n",
    "import re"
   ]
  },
  {
   "cell_type": "code",
   "execution_count": 6,
   "id": "7c2b1764-0296-48da-8c50-8f576390f0f6",
   "metadata": {},
   "outputs": [],
   "source": [
    "# nltk.download('wordnet')"
   ]
  },
  {
   "cell_type": "code",
   "execution_count": 7,
   "id": "0acfd64c-df55-438f-ba5d-617f44c794bd",
   "metadata": {},
   "outputs": [],
   "source": [
    "from nltk.stem import WordNetLemmatizer\n",
    "lemmatizer = WordNetLemmatizer()"
   ]
  },
  {
   "cell_type": "markdown",
   "id": "976e281e-023a-4092-ac50-37da75e94642",
   "metadata": {},
   "source": [
    "# data"
   ]
  },
  {
   "cell_type": "code",
   "execution_count": 8,
   "id": "ea305032-f947-44a5-a453-e7219aa160d0",
   "metadata": {},
   "outputs": [],
   "source": [
    "df = pd.read_csv('./sentence_ids.csv')"
   ]
  },
  {
   "cell_type": "code",
   "execution_count": 9,
   "id": "cdaed2f8-d05d-49fa-afd6-647a6c0eb2df",
   "metadata": {},
   "outputs": [],
   "source": [
    "test = pd.read_csv('./test.tsv',sep='\\t')"
   ]
  },
  {
   "cell_type": "code",
   "execution_count": 10,
   "id": "e36cd5e1-43fd-4eb8-b65b-89c973ffc46f",
   "metadata": {},
   "outputs": [
    {
     "data": {
      "text/html": [
       "<div>\n",
       "<style scoped>\n",
       "    .dataframe tbody tr th:only-of-type {\n",
       "        vertical-align: middle;\n",
       "    }\n",
       "\n",
       "    .dataframe tbody tr th {\n",
       "        vertical-align: top;\n",
       "    }\n",
       "\n",
       "    .dataframe thead th {\n",
       "        text-align: right;\n",
       "    }\n",
       "</style>\n",
       "<table border=\"1\" class=\"dataframe\">\n",
       "  <thead>\n",
       "    <tr style=\"text-align: right;\">\n",
       "      <th></th>\n",
       "      <th>PhraseId</th>\n",
       "      <th>SentenceId</th>\n",
       "      <th>Phrase</th>\n",
       "      <th>Sentiment</th>\n",
       "    </tr>\n",
       "  </thead>\n",
       "  <tbody>\n",
       "    <tr>\n",
       "      <th>0</th>\n",
       "      <td>1</td>\n",
       "      <td>1</td>\n",
       "      <td>A series of escapades demonstrating the adage that what is good for the goose is also good for the gander , some of which occasionally amuses but none of which amounts to much of a story .</td>\n",
       "      <td>1</td>\n",
       "    </tr>\n",
       "    <tr>\n",
       "      <th>1</th>\n",
       "      <td>64</td>\n",
       "      <td>2</td>\n",
       "      <td>This quiet , introspective and entertaining independent is worth seeking .</td>\n",
       "      <td>4</td>\n",
       "    </tr>\n",
       "    <tr>\n",
       "      <th>2</th>\n",
       "      <td>82</td>\n",
       "      <td>3</td>\n",
       "      <td>Even fans of Ismail Merchant 's work , I suspect , would have a hard time sitting through this one .</td>\n",
       "      <td>1</td>\n",
       "    </tr>\n",
       "    <tr>\n",
       "      <th>3</th>\n",
       "      <td>117</td>\n",
       "      <td>4</td>\n",
       "      <td>A positively thrilling combination of ethnography and all the intrigue , betrayal , deceit and murder of a Shakespearean tragedy or a juicy soap opera .</td>\n",
       "      <td>3</td>\n",
       "    </tr>\n",
       "    <tr>\n",
       "      <th>4</th>\n",
       "      <td>157</td>\n",
       "      <td>5</td>\n",
       "      <td>Aggressive self-glorification and a manipulative whitewash .</td>\n",
       "      <td>1</td>\n",
       "    </tr>\n",
       "  </tbody>\n",
       "</table>\n",
       "</div>"
      ],
      "text/plain": [
       "   PhraseId  SentenceId  \\\n",
       "0         1           1   \n",
       "1        64           2   \n",
       "2        82           3   \n",
       "3       117           4   \n",
       "4       157           5   \n",
       "\n",
       "                                                                                                                                                                                         Phrase  \\\n",
       "0  A series of escapades demonstrating the adage that what is good for the goose is also good for the gander , some of which occasionally amuses but none of which amounts to much of a story .   \n",
       "1                                                                                                                    This quiet , introspective and entertaining independent is worth seeking .   \n",
       "2                                                                                          Even fans of Ismail Merchant 's work , I suspect , would have a hard time sitting through this one .   \n",
       "3                                      A positively thrilling combination of ethnography and all the intrigue , betrayal , deceit and murder of a Shakespearean tragedy or a juicy soap opera .   \n",
       "4                                                                                                                                  Aggressive self-glorification and a manipulative whitewash .   \n",
       "\n",
       "   Sentiment  \n",
       "0          1  \n",
       "1          4  \n",
       "2          1  \n",
       "3          3  \n",
       "4          1  "
      ]
     },
     "execution_count": 10,
     "metadata": {},
     "output_type": "execute_result"
    }
   ],
   "source": [
    "df.head()"
   ]
  },
  {
   "cell_type": "code",
   "execution_count": 11,
   "id": "5b5bb431-2655-4db4-84e4-539a5e026990",
   "metadata": {},
   "outputs": [
    {
     "data": {
      "text/html": [
       "<div>\n",
       "<style scoped>\n",
       "    .dataframe tbody tr th:only-of-type {\n",
       "        vertical-align: middle;\n",
       "    }\n",
       "\n",
       "    .dataframe tbody tr th {\n",
       "        vertical-align: top;\n",
       "    }\n",
       "\n",
       "    .dataframe thead th {\n",
       "        text-align: right;\n",
       "    }\n",
       "</style>\n",
       "<table border=\"1\" class=\"dataframe\">\n",
       "  <thead>\n",
       "    <tr style=\"text-align: right;\">\n",
       "      <th></th>\n",
       "      <th>Phrase</th>\n",
       "      <th>Sentiment</th>\n",
       "    </tr>\n",
       "  </thead>\n",
       "  <tbody>\n",
       "    <tr>\n",
       "      <th>0</th>\n",
       "      <td>A series of escapades demonstrating the adage that what is good for the goose is also good for the gander , some of which occasionally amuses but none of which amounts to much of a story .</td>\n",
       "      <td>1</td>\n",
       "    </tr>\n",
       "    <tr>\n",
       "      <th>1</th>\n",
       "      <td>This quiet , introspective and entertaining independent is worth seeking .</td>\n",
       "      <td>4</td>\n",
       "    </tr>\n",
       "    <tr>\n",
       "      <th>2</th>\n",
       "      <td>Even fans of Ismail Merchant 's work , I suspect , would have a hard time sitting through this one .</td>\n",
       "      <td>1</td>\n",
       "    </tr>\n",
       "    <tr>\n",
       "      <th>3</th>\n",
       "      <td>A positively thrilling combination of ethnography and all the intrigue , betrayal , deceit and murder of a Shakespearean tragedy or a juicy soap opera .</td>\n",
       "      <td>3</td>\n",
       "    </tr>\n",
       "    <tr>\n",
       "      <th>4</th>\n",
       "      <td>Aggressive self-glorification and a manipulative whitewash .</td>\n",
       "      <td>1</td>\n",
       "    </tr>\n",
       "  </tbody>\n",
       "</table>\n",
       "</div>"
      ],
      "text/plain": [
       "                                                                                                                                                                                         Phrase  \\\n",
       "0  A series of escapades demonstrating the adage that what is good for the goose is also good for the gander , some of which occasionally amuses but none of which amounts to much of a story .   \n",
       "1                                                                                                                    This quiet , introspective and entertaining independent is worth seeking .   \n",
       "2                                                                                          Even fans of Ismail Merchant 's work , I suspect , would have a hard time sitting through this one .   \n",
       "3                                      A positively thrilling combination of ethnography and all the intrigue , betrayal , deceit and murder of a Shakespearean tragedy or a juicy soap opera .   \n",
       "4                                                                                                                                  Aggressive self-glorification and a manipulative whitewash .   \n",
       "\n",
       "   Sentiment  \n",
       "0          1  \n",
       "1          4  \n",
       "2          1  \n",
       "3          3  \n",
       "4          1  "
      ]
     },
     "execution_count": 11,
     "metadata": {},
     "output_type": "execute_result"
    }
   ],
   "source": [
    "df_train = df.drop(['PhraseId', 'SentenceId'], axis = 1).reset_index(drop = True)\n",
    "df_train.head()"
   ]
  },
  {
   "cell_type": "code",
   "execution_count": 12,
   "id": "5e93f8bb-0431-4fa5-b28a-18869b8eea35",
   "metadata": {},
   "outputs": [
    {
     "data": {
      "text/plain": [
       "Sentiment\n",
       "1    114\n",
       "3    105\n",
       "2     90\n",
       "4     64\n",
       "0     47\n",
       "Name: count, dtype: int64"
      ]
     },
     "execution_count": 12,
     "metadata": {},
     "output_type": "execute_result"
    }
   ],
   "source": [
    "df_train['Sentiment'].value_counts()"
   ]
  },
  {
   "cell_type": "markdown",
   "id": "10d52017-4fb3-4801-851c-2f0a70d7943d",
   "metadata": {},
   "source": [
    "0 - negative\n",
    "\n",
    "1 - somewhat negative\n",
    "\n",
    "2 - neutral\n",
    "\n",
    "3 - somewhat positive\n",
    "\n",
    "4 - positive"
   ]
  },
  {
   "cell_type": "markdown",
   "id": "2304fdea-8d28-4151-8600-37928c734a2a",
   "metadata": {},
   "source": [
    "### clean"
   ]
  },
  {
   "cell_type": "code",
   "execution_count": 13,
   "id": "4fb26590-ea9e-49e2-8e2b-66adf7012106",
   "metadata": {},
   "outputs": [],
   "source": [
    "def remove_stopwords(text):\n",
    "    stop_words = set(nltk.corpus.stopwords.words('english'))\n",
    "    tokens = word_tokenize(text)\n",
    "    filtered_tokens = [word for word in tokens if word.lower() not in stop_words]\n",
    "    filtered_text = ' '.join(filtered_tokens)\n",
    "    return filtered_text\n",
    "    \n",
    "def Clean(corpus):\n",
    "    cleaned = []\n",
    "    for line in corpus:\n",
    "        clean_line = BeautifulSoup(line).get_text() # 去除HTML标签\n",
    "        clean_line = re.sub(\"[^a-zA-Z]\",\" \", clean_line) # 去除除字母外（数字、符号\n",
    "        # clean_line = remove_stopwords(clean_line)\n",
    "        words = word_tokenize(clean_line.lower()) # 分词\n",
    "        # lemma_words = [lemmatizer.lemmatize(w) for w in words] # 统一时态\n",
    "        \n",
    "        cleaned.append(words)\n",
    "    return cleaned"
   ]
  },
  {
   "cell_type": "code",
   "execution_count": 14,
   "id": "09153c6b-34ca-4bb8-865a-09566380454f",
   "metadata": {},
   "outputs": [
    {
     "name": "stderr",
     "output_type": "stream",
     "text": [
      "/var/folders/dx/_yt3_qhs7zn06_sx8f_kc6040000gn/T/ipykernel_1694/1313219091.py:11: MarkupResemblesLocatorWarning: The input looks more like a filename than markup. You may want to open this file and pass the filehandle into Beautiful Soup.\n",
      "  clean_line = BeautifulSoup(line).get_text() # 去除HTML标签\n"
     ]
    }
   ],
   "source": [
    "corpus = []\n",
    "corpus.extend(line for line in df_train['Phrase'])\n",
    "cleaned_corpus = Clean(corpus)"
   ]
  },
  {
   "cell_type": "markdown",
   "id": "d0a2b7af-a52a-418f-9489-471258d8a564",
   "metadata": {},
   "source": [
    "### df_train['Phrase_clean']"
   ]
  },
  {
   "cell_type": "code",
   "execution_count": 15,
   "id": "1cce8472-6ad9-4d4e-be76-a8b7a6129ac3",
   "metadata": {},
   "outputs": [
    {
     "data": {
      "text/html": [
       "<div>\n",
       "<style scoped>\n",
       "    .dataframe tbody tr th:only-of-type {\n",
       "        vertical-align: middle;\n",
       "    }\n",
       "\n",
       "    .dataframe tbody tr th {\n",
       "        vertical-align: top;\n",
       "    }\n",
       "\n",
       "    .dataframe thead th {\n",
       "        text-align: right;\n",
       "    }\n",
       "</style>\n",
       "<table border=\"1\" class=\"dataframe\">\n",
       "  <thead>\n",
       "    <tr style=\"text-align: right;\">\n",
       "      <th></th>\n",
       "      <th>Phrase</th>\n",
       "      <th>Sentiment</th>\n",
       "      <th>Phrase_clean</th>\n",
       "    </tr>\n",
       "  </thead>\n",
       "  <tbody>\n",
       "    <tr>\n",
       "      <th>0</th>\n",
       "      <td>A series of escapades demonstrating the adage that what is good for the goose is also good for the gander , some of which occasionally amuses but none of which amounts to much of a story .</td>\n",
       "      <td>1</td>\n",
       "      <td>[a, series, of, escapades, demonstrating, the, adage, that, what, is, good, for, the, goose, is, also, good, for, the, gander, some, of, which, occasionally, amuses, but, none, of, which, amounts, to, much, of, a, story]</td>\n",
       "    </tr>\n",
       "    <tr>\n",
       "      <th>1</th>\n",
       "      <td>This quiet , introspective and entertaining independent is worth seeking .</td>\n",
       "      <td>4</td>\n",
       "      <td>[this, quiet, introspective, and, entertaining, independent, is, worth, seeking]</td>\n",
       "    </tr>\n",
       "    <tr>\n",
       "      <th>2</th>\n",
       "      <td>Even fans of Ismail Merchant 's work , I suspect , would have a hard time sitting through this one .</td>\n",
       "      <td>1</td>\n",
       "      <td>[even, fans, of, ismail, merchant, s, work, i, suspect, would, have, a, hard, time, sitting, through, this, one]</td>\n",
       "    </tr>\n",
       "    <tr>\n",
       "      <th>3</th>\n",
       "      <td>A positively thrilling combination of ethnography and all the intrigue , betrayal , deceit and murder of a Shakespearean tragedy or a juicy soap opera .</td>\n",
       "      <td>3</td>\n",
       "      <td>[a, positively, thrilling, combination, of, ethnography, and, all, the, intrigue, betrayal, deceit, and, murder, of, a, shakespearean, tragedy, or, a, juicy, soap, opera]</td>\n",
       "    </tr>\n",
       "    <tr>\n",
       "      <th>4</th>\n",
       "      <td>Aggressive self-glorification and a manipulative whitewash .</td>\n",
       "      <td>1</td>\n",
       "      <td>[aggressive, self, glorification, and, a, manipulative, whitewash]</td>\n",
       "    </tr>\n",
       "  </tbody>\n",
       "</table>\n",
       "</div>"
      ],
      "text/plain": [
       "                                                                                                                                                                                         Phrase  \\\n",
       "0  A series of escapades demonstrating the adage that what is good for the goose is also good for the gander , some of which occasionally amuses but none of which amounts to much of a story .   \n",
       "1                                                                                                                    This quiet , introspective and entertaining independent is worth seeking .   \n",
       "2                                                                                          Even fans of Ismail Merchant 's work , I suspect , would have a hard time sitting through this one .   \n",
       "3                                      A positively thrilling combination of ethnography and all the intrigue , betrayal , deceit and murder of a Shakespearean tragedy or a juicy soap opera .   \n",
       "4                                                                                                                                  Aggressive self-glorification and a manipulative whitewash .   \n",
       "\n",
       "   Sentiment  \\\n",
       "0          1   \n",
       "1          4   \n",
       "2          1   \n",
       "3          3   \n",
       "4          1   \n",
       "\n",
       "                                                                                                                                                                                                                   Phrase_clean  \n",
       "0  [a, series, of, escapades, demonstrating, the, adage, that, what, is, good, for, the, goose, is, also, good, for, the, gander, some, of, which, occasionally, amuses, but, none, of, which, amounts, to, much, of, a, story]  \n",
       "1                                                                                                                                              [this, quiet, introspective, and, entertaining, independent, is, worth, seeking]  \n",
       "2                                                                                                              [even, fans, of, ismail, merchant, s, work, i, suspect, would, have, a, hard, time, sitting, through, this, one]  \n",
       "3                                                    [a, positively, thrilling, combination, of, ethnography, and, all, the, intrigue, betrayal, deceit, and, murder, of, a, shakespearean, tragedy, or, a, juicy, soap, opera]  \n",
       "4                                                                                                                                                            [aggressive, self, glorification, and, a, manipulative, whitewash]  "
      ]
     },
     "execution_count": 15,
     "metadata": {},
     "output_type": "execute_result"
    }
   ],
   "source": [
    "df_train['Phrase_clean'] = cleaned_corpus\n",
    "df_train.head()"
   ]
  },
  {
   "cell_type": "markdown",
   "id": "f6280e4e-b308-4283-9a42-dff10837b0b1",
   "metadata": {},
   "source": [
    "### vocab"
   ]
  },
  {
   "cell_type": "code",
   "execution_count": 16,
   "id": "de3eed66-d398-42f0-8226-ebedfa715069",
   "metadata": {},
   "outputs": [
    {
     "data": {
      "text/plain": [
       "2546"
      ]
     },
     "execution_count": 16,
     "metadata": {},
     "output_type": "execute_result"
    }
   ],
   "source": [
    "vocab = [word for words in cleaned_corpus for word in words]\n",
    "vocab = set(vocab)\n",
    "len(vocab)"
   ]
  },
  {
   "cell_type": "markdown",
   "id": "3c1b425e-72fb-4f19-b8f7-aee3db7e09c7",
   "metadata": {},
   "source": [
    "word and index"
   ]
  },
  {
   "cell_type": "code",
   "execution_count": 17,
   "id": "3d528eee-8c7a-4ae0-9a1a-63ad0466777c",
   "metadata": {},
   "outputs": [],
   "source": [
    "word_to_ix = {word:ix for ix, word in enumerate(vocab)}\n",
    "ix_to_word = {ix:word for ix, word in enumerate(vocab)}"
   ]
  },
  {
   "cell_type": "markdown",
   "id": "a5a85ff3-9bf8-455a-bb79-3ac8daa622a4",
   "metadata": {},
   "source": [
    "### train_validation"
   ]
  },
  {
   "cell_type": "code",
   "execution_count": 18,
   "id": "37f6ea5a-87ec-4ef4-a34b-3b272694a6f0",
   "metadata": {},
   "outputs": [],
   "source": [
    "from sklearn.model_selection import train_test_split"
   ]
  },
  {
   "cell_type": "code",
   "execution_count": 21,
   "id": "5a70e4d8-0284-4f33-9567-991c01c44779",
   "metadata": {},
   "outputs": [],
   "source": [
    "from torch.nn import functional as F"
   ]
  },
  {
   "cell_type": "code",
   "execution_count": null,
   "id": "b889a92a-f1a0-49dd-8b9b-7cd2a7d575c3",
   "metadata": {},
   "outputs": [],
   "source": [
    "x = df_train['Phrase_clean']\n",
    "y = df_train['Sentiment']"
   ]
  },
  {
   "cell_type": "code",
   "execution_count": null,
   "id": "4dda20cb-812f-4980-8cf0-414b53d345cc",
   "metadata": {},
   "outputs": [],
   "source": [
    "target = df_train.Sentiment.values\n",
    "y = F.one_hot(,target)"
   ]
  },
  {
   "cell_type": "code",
   "execution_count": null,
   "id": "c87b15da-a8b7-4a6b-877c-424818c169a9",
   "metadata": {},
   "outputs": [],
   "source": [
    "x_train,x_val,y_train,y_val=train_test_split(x, y, test_size=0.2, stratify=y)\n",
    "# 参数 stratify 用于实现分层采样"
   ]
  },
  {
   "cell_type": "code",
   "execution_count": null,
   "id": "6badf939-0e30-4f0c-8a7c-5df6fa9c69c1",
   "metadata": {},
   "outputs": [],
   "source": []
  },
  {
   "cell_type": "code",
   "execution_count": null,
   "id": "4d855b46-7483-4b1e-a8be-92a85c1a9f26",
   "metadata": {},
   "outputs": [],
   "source": [
    "y_train.shape"
   ]
  },
  {
   "cell_type": "markdown",
   "id": "ae65ecf4-5c98-4ae9-b141-e31725c576f7",
   "metadata": {},
   "source": []
  },
  {
   "cell_type": "markdown",
   "id": "1d07ea8e-2abd-4a70-a4fd-29ae5238090f",
   "metadata": {},
   "source": [
    "# model"
   ]
  },
  {
   "cell_type": "code",
   "execution_count": null,
   "id": "28f08ba0-6a61-49ae-a32d-5d2da0fab192",
   "metadata": {},
   "outputs": [],
   "source": [
    "def get_params(vocab_size, hidden_size):\n",
    "    \n",
    "    def normal(shape):\n",
    "        return torch.randn(size=shape)*0.01\n",
    "\n",
    "    # hidden layer\n",
    "    W_vh = normal((vocab_size, hidden_size))\n",
    "    W_hh = normal((hidden_size, hidden_size))\n",
    "    b_h = torch.zeros(hidden_size)\n",
    "    # output\n",
    "    U_hv = normal((hidden_size, vocab_size))\n",
    "    b_v = torch.zeros(vocab_size)\n",
    "    \n",
    "    # grad\n",
    "    params = [W_vh, W_hh, b_h, U_hv, b_v]\n",
    "    for p in params:\n",
    "        p.requires_grad_(True)\n",
    "    return params"
   ]
  },
  {
   "cell_type": "code",
   "execution_count": null,
   "id": "4b764a40-1134-48aa-a99c-fcdb6830461e",
   "metadata": {},
   "outputs": [],
   "source": [
    "def init_rnn_state(batch_size, hidden_size):\n",
    "    return (torch.zeros((batch_size, hidden_size)))"
   ]
  },
  {
   "cell_type": "code",
   "execution_count": null,
   "id": "d8349b07-98c1-409d-b23f-830aea549943",
   "metadata": {},
   "outputs": [],
   "source": [
    "class RNN(nn.Module):\n",
    "    def __init__(self, vocab_size, hidden_size = 128):\n",
    "        super(RNN, self).__init__()\n",
    "        self.rnn = nn.RNN(input_size = vocab_size, hidden_size = hidden_size)\n",
    "        \n",
    "        # 输出层参数\n",
    "        self.linear_out = nn.Linear(hidden_size, vocab_size)\n",
    "        self.softmax_function = nn.LogSoftmax(dim = -1)\n",
    "\n",
    "    def forward(self, h, x):\n",
    "        # x = x.transpose(0, 1)\n",
    "        outputs, h = self.rnn(x, h)\n",
    "        # outputs: (timestamp, batch_size, direc(one dire = 1)*vocab_size)\n",
    "        # h: (layers(=1) * direc, batch_size, hidden_size)\n",
    "        \n",
    "        outputs = outputs[-1]\n",
    "        out = self.linear_out(outputs)\n",
    "        out = self.self.softmax_function(dim = -1)\n",
    "        \n",
    "        return out"
   ]
  },
  {
   "cell_type": "markdown",
   "id": "39980f4c-ba56-4569-94f9-7f5e3011964d",
   "metadata": {},
   "source": [
    "## train"
   ]
  },
  {
   "cell_type": "code",
   "execution_count": null,
   "id": "e25fc79d-1095-4d30-8b15-5792d3dd1c45",
   "metadata": {},
   "outputs": [],
   "source": []
  },
  {
   "cell_type": "code",
   "execution_count": null,
   "id": "223dfafc-5fd0-478b-aa9c-a36aa3a53af6",
   "metadata": {},
   "outputs": [],
   "source": []
  },
  {
   "cell_type": "code",
   "execution_count": null,
   "id": "8408837f-4681-44cd-bbf4-456ddd821b1c",
   "metadata": {},
   "outputs": [],
   "source": []
  },
  {
   "cell_type": "code",
   "execution_count": null,
   "id": "0881e219-c181-4d4d-8f66-79f88425ec7a",
   "metadata": {},
   "outputs": [],
   "source": []
  }
 ],
 "metadata": {
  "kernelspec": {
   "display_name": "Python 3 (ipykernel)",
   "language": "python",
   "name": "python3"
  },
  "language_info": {
   "codemirror_mode": {
    "name": "ipython",
    "version": 3
   },
   "file_extension": ".py",
   "mimetype": "text/x-python",
   "name": "python",
   "nbconvert_exporter": "python",
   "pygments_lexer": "ipython3",
   "version": "3.12.2"
  }
 },
 "nbformat": 4,
 "nbformat_minor": 5
}
